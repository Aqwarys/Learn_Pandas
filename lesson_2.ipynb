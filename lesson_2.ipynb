{
 "cells": [
  {
   "cell_type": "code",
   "execution_count": null,
   "id": "eeaa6bfb",
   "metadata": {},
   "outputs": [],
   "source": [
    "import pandas as pd\n",
    "\n",
    "# Lesson 2 - Filtering Columns and Rows in Pandas"
   ]
  },
  {
   "cell_type": "code",
   "execution_count": null,
   "id": "f1c0cf33",
   "metadata": {},
   "outputs": [],
   "source": [
    "df = pd.read_csv(\"world_population.csv\")\n",
    "df"
   ]
  },
  {
   "cell_type": "code",
   "execution_count": null,
   "id": "8372c542",
   "metadata": {},
   "outputs": [],
   "source": [
    "# Фильтрация по значению в колонке\n",
    "# Этот код выберет только те строки, где значение в колонке 'Rank' меньше 10.\n",
    "# Выражение df['Rank'] < 10 создает булеву (True/False) серию,\n",
    "# и Pandas использует её, чтобы \"отфильтровать\" строки.\n",
    "df[df['Rank'] < 10]"
   ]
  },
  {
   "cell_type": "code",
   "execution_count": null,
   "id": "e1a8f2b1",
   "metadata": {},
   "outputs": [],
   "source": [
    "# Фильтрация по списку значений\n",
    "specific_country = [\"China\", \"Pakistan\"]\n",
    "\n",
    "df[df['Country'].isin(specific_country)]\n",
    "# Метод .isin() очень удобен для проверки, содержится ли значение в списке.\n",
    "# Он вернёт True для каждой строки, где 'Country' есть в списке specific_country."
   ]
  },
  {
   "cell_type": "code",
   "execution_count": null,
   "id": "b37d008c",
   "metadata": {},
   "outputs": [],
   "source": [
    "# Фильтрация по части строки\n",
    "# Метод .str.contains() позволяет искать подстроку в строковых данных.\n",
    "# Это аналог \"LIKE\" в SQL.\n",
    "# Метод .str должен быть использован, потому что .contains() применяется\n",
    "# к сериям с типом данных \"строка\" (object).\n",
    "df[df[\"Country\"].str.contains(\"United\")]"
   ]
  },
  {
   "cell_type": "code",
   "execution_count": null,
   "id": "fc3067bf",
   "metadata": {},
   "outputs": [],
   "source": [
    "# Установка индекса\n",
    "# Создаем новый DataFrame, где в качестве индекса (строк) выступает колонка 'Country'.\n",
    "# Это очень полезно, когда ты хочешь обращаться к данным по имени страны,\n",
    "# а не по числовому индексу (0, 1, 2...).\n",
    "df2 = df.set_index('Country')\n",
    "df2"
   ]
  },
  {
   "cell_type": "code",
   "execution_count": null,
   "id": "453aa29c",
   "metadata": {},
   "outputs": [],
   "source": [
    "# Фильтрация колонок\n",
    "# Здесь мы используем filter для выбора колонок ('Continent', 'CCA3').\n",
    "# axis=1 означает, что мы работаем по оси столбцов.\n",
    "# В итоге получаем DataFrame, который содержит только эти две колонки.\n",
    "df2.filter(items=[\"Continent\", \"CCA3\"], axis=1)"
   ]
  },
  {
   "cell_type": "code",
   "execution_count": null,
   "id": "f6339e2c",
   "metadata": {},
   "outputs": [],
   "source": [
    "# Фильтрация строк\n",
    "# Ты правильно заметил, что тут мы используем имя записи ('Zimbabwe'), а не имя колонки.\n",
    "# Это потому что axis=0 означает, что мы работаем по оси строк (индексов).\n",
    "# Pandas ищет в индексе (который мы ранее установили как 'Country')\n",
    "# элемент с именем 'Zimbabwe' и возвращает соответствующую строку.\n",
    "df2.filter(items=[\"Zimbabwe\"], axis=0)"
   ]
  },
  {
   "cell_type": "code",
   "execution_count": null,
   "id": "653bad72",
   "metadata": {},
   "outputs": [],
   "source": [
    "# Фильтрация с помощью \"LIKE\" (поиск подстроки)\n",
    "# like=\"United\" похож на .str.contains(), но используется в методе filter().\n",
    "# Он ищет в индексе (по оси 0) все элементы, которые содержат подстроку \"United\".\n",
    "df2.filter(like=\"United\", axis=0)"
   ]
  },
  {
   "cell_type": "code",
   "execution_count": null,
   "id": "f67ca863",
   "metadata": {},
   "outputs": [],
   "source": [
    "# Сортировка по одной колонке\n",
    "# .sort_values() сортирует DataFrame. by=\"Country\" указывает, по какой колонке сортировать.\n",
    "# ascending=True (по умолчанию) сортирует по возрастанию (от А до Я, от меньшего к большему).\n",
    "# Чтобы сортировать по убыванию, используй ascending=False.\n",
    "df[df[\"Rank\"] < 10].sort_values(by=\"Country\", ascending=True)\n",
    "\n",
    "# Сортировка по нескольким колонкам\n",
    "# Можно передать список колонок в by и список булевых значений в ascending.\n",
    "# В этом примере мы сначала сортируем по \"Country\" в обратном алфавитном порядке (False),\n",
    "# а затем, для одинаковых значений в \"Country\" (если бы они были),\n",
    "# сортируем по \"Continent\" в прямом алфавитном порядке (True).\n",
    "df[df[\"Rank\"] < 10].sort_values(by=[\"Country\", \"Continent\"], ascending=[False, True])"
   ]
  }
 ],
 "metadata": {
  "kernelspec": {
   "display_name": "venv",
   "language": "python",
   "name": "python3"
  },
  "language_info": {
   "codemirror_mode": {
    "name": "ipython",
    "version": 3
   },
   "file_extension": ".py",
   "mimetype": "text/x-python",
   "name": "python",
   "nbconvert_exporter": "python",
   "pygments_lexer": "ipython3",
   "version": "3.12.4"
  }
 },
 "nbformat": 4,
 "nbformat_minor": 5
}
