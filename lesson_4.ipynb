{
 "cells": [
  {
   "cell_type": "code",
   "execution_count": 2,
   "id": "57f87b9b",
   "metadata": {},
   "outputs": [],
   "source": [
    "import pandas as pd\n",
    "\n",
    "# Lesson 3 - Group By and Aggregate Functions in Pandas"
   ]
  },
  {
   "cell_type": "code",
   "execution_count": null,
   "id": "cd226eea",
   "metadata": {},
   "outputs": [],
   "source": [
    "df = pd.read_csv(\"Flavors.csv\")\n",
    "df"
   ]
  },
  {
   "cell_type": "code",
   "execution_count": null,
   "id": "a01eee40",
   "metadata": {},
   "outputs": [],
   "source": [
    "# Группировка – это одна из самых мощных операций.\n",
    "# Сам по себе этот метод возвращает объект DataFrameGroupBy, который является своего рода \"рецептом\"\n",
    "# для группировки. Он не показывает результат, пока ты не применишь к нему агрегирующую функцию.\n",
    "\n",
    "df.groupby(\"Base Flavor\")\n",
    "\n",
    "# Здесь мы сохраняем объект группировки в переменную, а затем вызываем метод .mean()\n",
    "# Этот метод вычисляет среднее для каждой группы.\n",
    "# numeric_only=True очень полезен – он говорит Pandas, что нужно работать\n",
    "# только с числовыми колонками и игнорировать остальные.\n",
    "group_by_frame = df.groupby(\"Base Flavor\")\n",
    "group_by_frame.mean(numeric_only=True)"
   ]
  },
  {
   "cell_type": "code",
   "execution_count": null,
   "id": "e1105497",
   "metadata": {},
   "outputs": [],
   "source": [
    "# Такой подход предпочтителен, так как он более читабелен и не требует лишних переменных.\n",
    "df.groupby(\"Base Flavor\").mean(numeric_only=True)"
   ]
  },
  {
   "cell_type": "code",
   "execution_count": null,
   "id": "f7d5a82e",
   "metadata": {},
   "outputs": [
    {
     "data": {
      "text/html": [
       "<div>\n",
       "<style scoped>\n",
       "    .dataframe tbody tr th:only-of-type {\n",
       "        vertical-align: middle;\n",
       "    }\n",
       "\n",
       "    .dataframe tbody tr th {\n",
       "        vertical-align: top;\n",
       "    }\n",
       "\n",
       "    .dataframe thead th {\n",
       "        text-align: right;\n",
       "    }\n",
       "</style>\n",
       "<table border=\"1\" class=\"dataframe\">\n",
       "  <thead>\n",
       "    <tr style=\"text-align: right;\">\n",
       "      <th></th>\n",
       "      <th>Flavor</th>\n",
       "      <th>Liked</th>\n",
       "      <th>Flavor Rating</th>\n",
       "      <th>Texture Rating</th>\n",
       "      <th>Total Rating</th>\n",
       "    </tr>\n",
       "    <tr>\n",
       "      <th>Base Flavor</th>\n",
       "      <th></th>\n",
       "      <th></th>\n",
       "      <th></th>\n",
       "      <th></th>\n",
       "      <th></th>\n",
       "    </tr>\n",
       "  </thead>\n",
       "  <tbody>\n",
       "    <tr>\n",
       "      <th>Chocolate</th>\n",
       "      <td>ChocolateRocky RoadChocolte Fudge Brownie</td>\n",
       "      <td>YesYesYes</td>\n",
       "      <td>25.2</td>\n",
       "      <td>21.7</td>\n",
       "      <td>47.1</td>\n",
       "    </tr>\n",
       "    <tr>\n",
       "      <th>Vanilla</th>\n",
       "      <td>Mint Chocolate ChipVanillaCookie DoughPistachi...</td>\n",
       "      <td>YesNoYesNoYesNo</td>\n",
       "      <td>34.2</td>\n",
       "      <td>33.9</td>\n",
       "      <td>68.1</td>\n",
       "    </tr>\n",
       "  </tbody>\n",
       "</table>\n",
       "</div>"
      ],
      "text/plain": [
       "                                                        Flavor  \\\n",
       "Base Flavor                                                      \n",
       "Chocolate            ChocolateRocky RoadChocolte Fudge Brownie   \n",
       "Vanilla      Mint Chocolate ChipVanillaCookie DoughPistachi...   \n",
       "\n",
       "                       Liked  Flavor Rating  Texture Rating  Total Rating  \n",
       "Base Flavor                                                                \n",
       "Chocolate          YesYesYes           25.2            21.7          47.1  \n",
       "Vanilla      YesNoYesNoYesNo           34.2            33.9          68.1  "
      ]
     },
     "execution_count": 19,
     "metadata": {},
     "output_type": "execute_result"
    }
   ],
   "source": [
    "# Другие стандартные агрегирующие функции\n",
    "df.groupby(\"Base Flavor\").count()\n",
    "df.groupby(\"Base Flavor\").min()\n",
    "df.groupby(\"Base Flavor\").max()\n",
    "df.groupby(\"Base Flavor\").sum()\n"
   ]
  },
  {
   "cell_type": "code",
   "execution_count": null,
   "id": "2a11b52d",
   "metadata": {},
   "outputs": [],
   "source": [
    "# Метод .agg() (aggregate) – это универсальный инструмент для одновременного\n",
    "# применения разных агрегирующих функций к разным колонкам.\n",
    "# Ты передаешь ему словарь: ключи – это названия колонок, а значения –\n",
    "# это список функций, которые нужно применить к каждой колонке.\n",
    "df.groupby(\"Base Flavor\").agg({\"Flavor Rating\": [\"mean\", \"sum\", \"count\", \"max\", \"min\"],\n",
    "                                \"Texture Rating\": [\"mean\", \"sum\", \"count\", \"max\", \"min\"]})\n"
   ]
  },
  {
   "cell_type": "code",
   "execution_count": null,
   "id": "e0cbf5d7",
   "metadata": {},
   "outputs": [],
   "source": [
    "# Ты можешь группировать данные по нескольким колонкам, передав их названия списком.\n",
    "# Результатом будет DataFrame с многоуровневым индексом (MultiIndex),\n",
    "# где каждая уникальная комбинация значений становится отдельной группой.\n",
    "df.groupby([\"Base Flavor\", \"Liked\"]).mean(numeric_only=True)\n",
    "# И делать также аггрегаций к ним\n",
    "df.groupby([\"Base Flavor\", \"Liked\"]).agg({\"Flavor Rating\": [\"mean\", \"sum\", \"count\", \"max\", \"min\"]})"
   ]
  },
  {
   "cell_type": "code",
   "execution_count": null,
   "id": "9b2cc8db",
   "metadata": {},
   "outputs": [],
   "source": [
    "# Мои наблюдения:\n",
    "# 1. Запомни, что .count() считает только непустые значения в группе, а .size() считает\n",
    "#    общее количество строк в группе (включая пропуски).\n",
    "\n",
    "# 2. Результат .groupby() можно передавать по цепочке другим методам,\n",
    "#    например, .sort_values() или .reset_index(), чтобы сделать его более удобным для анализа.\n",
    "#    df.groupby(...).mean().reset_index()\n",
    "#    Это очень распространенный паттерн в Pandas.\n",
    "\n",
    "# 3. Группировка позволяет тебе делать выводы о данных, а не просто их смотреть.\n",
    "#    Например, ты можешь узнать, какой \"Base Flavor\" имеет самый высокий \"Flavor Rating\" в среднем."
   ]
  }
 ],
 "metadata": {
  "kernelspec": {
   "display_name": "venv",
   "language": "python",
   "name": "python3"
  },
  "language_info": {
   "codemirror_mode": {
    "name": "ipython",
    "version": 3
   },
   "file_extension": ".py",
   "mimetype": "text/x-python",
   "name": "python",
   "nbconvert_exporter": "python",
   "pygments_lexer": "ipython3",
   "version": "3.12.4"
  }
 },
 "nbformat": 4,
 "nbformat_minor": 5
}
