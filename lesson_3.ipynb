{
 "cells": [
  {
   "cell_type": "code",
   "execution_count": 3,
   "id": "e8a180ad",
   "metadata": {},
   "outputs": [],
   "source": [
    "import pandas as pd\n",
    " # Lesson 3 - Indexes in Pandas"
   ]
  },
  {
   "cell_type": "code",
   "execution_count": null,
   "id": "f1de72d0",
   "metadata": {},
   "outputs": [],
   "source": [
    "df = pd.read_csv(\"world_population.csv\", index_col=\"Country\")\n",
    "df"
   ]
  },
  {
   "cell_type": "code",
   "execution_count": null,
   "id": "513f9608",
   "metadata": {},
   "outputs": [],
   "source": [
    "# Это сбрасывает все текущие индексы и возвращает DataFrame к стандартной нумерации (0, 1, 2...).\n",
    "# Аргумент inplace=True означает, что изменения применяются к самому df.\n",
    "# Если не указать inplace=True, метод вернет новый DataFrame сброшенным индексом,\n",
    "# а исходный df останется без изменений.\n",
    "df.reset_index(inplace=True)"
   ]
  },
  {
   "cell_type": "code",
   "execution_count": null,
   "id": "ee6436f9",
   "metadata": {},
   "outputs": [],
   "source": [
    "# Этот код устанавливает колонку 'Country' как новый индекс, но только для вывода.\n",
    "# Он не сохраняет изменения в самом DataFrame.\n",
    "df.set_index(\"Country\")\n",
    "# А вот здесь, благодаря inplace=True, колонка 'Country' становится\n",
    "# постоянным индексом для нашего df.\n",
    "df.set_index(\"Country\", inplace=True)\n",
    "df"
   ]
  },
  {
   "cell_type": "code",
   "execution_count": null,
   "id": "c34a88a1",
   "metadata": {},
   "outputs": [],
   "source": [
    "# Можно установить несколько индексов, создав \"многоуровневый\" индекс (MultiIndex).\n",
    "# Это очень удобно для иерархических данных.\n",
    "df.set_index([\"Continent\", \"Country\"], inplace=True)\n",
    "df"
   ]
  },
  {
   "cell_type": "code",
   "execution_count": 13,
   "id": "3eadffcb",
   "metadata": {},
   "outputs": [],
   "source": [
    "pd.set_option(\"display.max.rows\", 235)"
   ]
  },
  {
   "cell_type": "code",
   "execution_count": null,
   "id": "926ea72d",
   "metadata": {},
   "outputs": [],
   "source": [
    "# Этот метод сортирует DataFrame по значениям в индексе.\n",
    "# Если у тебя MultiIndex, ты можешь указать порядок сортировки для каждого уровня,\n",
    "# передав список в ascending.\n",
    "df.sort_index()\n",
    "# Также указывать способ сортировки\n",
    "df.sort_index(ascending=[False, True])"
   ]
  },
  {
   "cell_type": "code",
   "execution_count": null,
   "id": "d82d3b33",
   "metadata": {},
   "outputs": [],
   "source": [
    "# Для MultiIndex всегда используй .loc, чтобы получать доступ по именам индексов.\n",
    "# Ты передаешь кортеж или список с именами для каждого уровня индекса.\n",
    "df.loc[\"Africa\", \"Angola\"]"
   ]
  },
  {
   "cell_type": "code",
   "execution_count": null,
   "id": "4776a15f",
   "metadata": {},
   "outputs": [],
   "source": [
    "# А .iloc всегда работает только с числовыми позициями, независимо от того, какие у тебя имена индексов.\n",
    "# Оно просто вернет вторую строку (так как счет с 0).\n",
    "df.iloc[1]"
   ]
  },
  {
   "cell_type": "code",
   "execution_count": null,
   "id": "fdd6d528",
   "metadata": {},
   "outputs": [],
   "source": [
    "# Мои наблюдения:\n",
    "# 1. Запомни, что .loc работает с именами, а .iloc — с позициями.\n",
    "#    Это главное правило, которое поможет тебе избежать путаницы.\n",
    "\n",
    "# 2. Не все индексы должны быть уникальными! Если ты установишь индекс \"Continent\",\n",
    "#    а потом вызовешь df.loc[\"Asia\"], Pandas вернет ВСЕ строки, где Continent = \"Asia\".\n",
    "#    Это мощный способ для быстрого выбора целых групп данных.\n",
    "\n",
    "# 3. Используй .loc[(slice(None), 'United States')] для MultiIndex,\n",
    "#    если тебе нужно выбрать данные по конкретному значению на втором уровне\n",
    "#    индекса, но для всех значений на первом."
   ]
  }
 ],
 "metadata": {
  "kernelspec": {
   "display_name": "venv",
   "language": "python",
   "name": "python3"
  },
  "language_info": {
   "codemirror_mode": {
    "name": "ipython",
    "version": 3
   },
   "file_extension": ".py",
   "mimetype": "text/x-python",
   "name": "python",
   "nbconvert_exporter": "python",
   "pygments_lexer": "ipython3",
   "version": "3.12.4"
  }
 },
 "nbformat": 4,
 "nbformat_minor": 5
}
